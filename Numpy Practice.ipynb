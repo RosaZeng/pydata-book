{
 "cells": [
  {
   "cell_type": "markdown",
   "metadata": {
    "collapsed": true
   },
   "source": [
    "# Numpy Practice\n",
    "source: https://pynative.com/python-numpy-exercise/"
   ]
  },
  {
   "cell_type": "markdown",
   "metadata": {},
   "source": [
    "#### Create a 4X2 integer array and Prints its attributes\n",
    "\n",
    "Note: element must be a type of unsigned int16. And print the following Attributes: –\n",
    "\n",
    "* The shape of an array.\n",
    "* Array dimensions.\n",
    "* The Length of each element of the array in bytes."
   ]
  },
  {
   "cell_type": "code",
   "execution_count": 7,
   "metadata": {},
   "outputs": [
    {
     "name": "stdout",
     "output_type": "stream",
     "text": [
      "The Array is:\n",
      "[[    0     0]\n",
      " [    0 16384]\n",
      " [43626 32839]\n",
      " [ 2045 36864]]\n",
      "Printing numpy array Attributes\n",
      "1> Array Shape is:  (4, 2)\n",
      "2>. Array dimensions are  2\n",
      "3>. Length of each element of array in bytes is  2\n"
     ]
    }
   ],
   "source": [
    "import numpy as np\n",
    "firstArray = np.empty([4,2], dtype = np.uint16)\n",
    "\n",
    "print(\"The Array is:\")\n",
    "print(firstArray)\n",
    "\n",
    "print(\"Printing numpy array Attributes\")\n",
    "print(\"1> Array Shape is: \", firstArray.shape)\n",
    "print(\"2>. Array dimensions are \", firstArray.ndim)\n",
    "print(\"3>. Length of each element of array in bytes is \", firstArray.itemsize)\n",
    "\n"
   ]
  },
  {
   "cell_type": "markdown",
   "metadata": {},
   "source": [
    "#### Create a 5X2 integer array \n",
    "from a range between 100 to 200 such that the difference between each element is 10"
   ]
  },
  {
   "cell_type": "code",
   "execution_count": 9,
   "metadata": {},
   "outputs": [
    {
     "name": "stdout",
     "output_type": "stream",
     "text": [
      "Creating 5X2 array using numpy.arange\n",
      "[[100 110]\n",
      " [120 130]\n",
      " [140 150]\n",
      " [160 170]\n",
      " [180 190]]\n"
     ]
    }
   ],
   "source": [
    "print(\"Creating 5X2 array using numpy.arange\")\n",
    "sampleArray = np.arange(100, 200, 10)\n",
    "sampleArray = sampleArray.reshape(5,2)\n",
    "print (sampleArray)"
   ]
  },
  {
   "cell_type": "markdown",
   "metadata": {},
   "source": [
    "#### Following is the provided numPy array. return array of items in the third column from all rows\n",
    "\n",
    "```\n",
    "import numpy\n",
    "sampleArray = numpy.array([[11 ,22, 33], [44, 55, 66], [77, 88, 99]])\n",
    "```"
   ]
  },
  {
   "cell_type": "code",
   "execution_count": 11,
   "metadata": {},
   "outputs": [
    {
     "name": "stdout",
     "output_type": "stream",
     "text": [
      "Printing Input Array\n",
      "[[11 22 33]\n",
      " [44 55 66]\n",
      " [77 88 99]]\n",
      "\n",
      " Printing array of items in the third column from all rows\n",
      "[33 66 99]\n"
     ]
    }
   ],
   "source": [
    "sampleArray = np.array([[11 ,22, 33], [44, 55, 66], [77, 88, 99]]) \n",
    "print(\"Printing Input Array\")\n",
    "print(sampleArray)\n",
    "print(\"\\n Printing array of items in the third column from all rows\")\n",
    "newArray = sampleArray[:,2]\n",
    "print(newArray)"
   ]
  },
  {
   "cell_type": "code",
   "execution_count": null,
   "metadata": {
    "collapsed": true
   },
   "outputs": [],
   "source": []
  }
 ],
 "metadata": {
  "kernelspec": {
   "display_name": "Python 3",
   "language": "python",
   "name": "python3"
  },
  "language_info": {
   "codemirror_mode": {
    "name": "ipython",
    "version": 3
   },
   "file_extension": ".py",
   "mimetype": "text/x-python",
   "name": "python",
   "nbconvert_exporter": "python",
   "pygments_lexer": "ipython3",
   "version": "3.6.3"
  }
 },
 "nbformat": 4,
 "nbformat_minor": 2
}
